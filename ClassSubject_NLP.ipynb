{
 "cells": [
  {
   "cell_type": "code",
   "execution_count": 1,
   "metadata": {},
   "outputs": [],
   "source": [
    "from tensorflow.keras.preprocessing.text import Tokenizer\n",
    "from tensorflow.keras.preprocessing.sequence import pad_sequences\n",
    "from tensorflow.keras.layers import Dense, Input, GlobalMaxPooling1D, Conv1D, MaxPooling1D\n",
    "from tensorflow.keras.layers import LSTM, Embedding, GRU\n",
    "import tensorflow as tf\n",
    "from mlutils import plot"
   ]
  },
  {
   "cell_type": "code",
   "execution_count": 2,
   "metadata": {},
   "outputs": [],
   "source": [
    "import numpy as np\n",
    "import pandas as pd\n",
    "import matplotlib.pyplot as plt\n",
    "from sklearn.model_selection import train_test_split"
   ]
  },
  {
   "cell_type": "code",
   "execution_count": 3,
   "metadata": {},
   "outputs": [],
   "source": [
    "df = pd.read_csv('subjects-questions.csv') "
   ]
  },
  {
   "cell_type": "code",
   "execution_count": 4,
   "metadata": {},
   "outputs": [
    {
     "data": {
      "text/html": [
       "<div>\n",
       "<style scoped>\n",
       "    .dataframe tbody tr th:only-of-type {\n",
       "        vertical-align: middle;\n",
       "    }\n",
       "\n",
       "    .dataframe tbody tr th {\n",
       "        vertical-align: top;\n",
       "    }\n",
       "\n",
       "    .dataframe thead th {\n",
       "        text-align: right;\n",
       "    }\n",
       "</style>\n",
       "<table border=\"1\" class=\"dataframe\">\n",
       "  <thead>\n",
       "    <tr style=\"text-align: right;\">\n",
       "      <th></th>\n",
       "      <th>eng</th>\n",
       "      <th>Subject</th>\n",
       "    </tr>\n",
       "  </thead>\n",
       "  <tbody>\n",
       "    <tr>\n",
       "      <th>0</th>\n",
       "      <td>An anti-forest measure is\\nA. Afforestation\\nB...</td>\n",
       "      <td>Biology</td>\n",
       "    </tr>\n",
       "    <tr>\n",
       "      <th>1</th>\n",
       "      <td>Among the following organic acids, the acid pr...</td>\n",
       "      <td>Chemistry</td>\n",
       "    </tr>\n",
       "    <tr>\n",
       "      <th>2</th>\n",
       "      <td>If the area of two similar triangles are equal...</td>\n",
       "      <td>Maths</td>\n",
       "    </tr>\n",
       "    <tr>\n",
       "      <th>3</th>\n",
       "      <td>In recent year, there has been a growing\\nconc...</td>\n",
       "      <td>Biology</td>\n",
       "    </tr>\n",
       "    <tr>\n",
       "      <th>4</th>\n",
       "      <td>Which of the following statement\\nregarding tr...</td>\n",
       "      <td>Physics</td>\n",
       "    </tr>\n",
       "  </tbody>\n",
       "</table>\n",
       "</div>"
      ],
      "text/plain": [
       "                                                 eng    Subject\n",
       "0  An anti-forest measure is\\nA. Afforestation\\nB...    Biology\n",
       "1  Among the following organic acids, the acid pr...  Chemistry\n",
       "2  If the area of two similar triangles are equal...      Maths\n",
       "3  In recent year, there has been a growing\\nconc...    Biology\n",
       "4  Which of the following statement\\nregarding tr...    Physics"
      ]
     },
     "execution_count": 4,
     "metadata": {},
     "output_type": "execute_result"
    }
   ],
   "source": [
    "df.head()"
   ]
  },
  {
   "cell_type": "code",
   "execution_count": 5,
   "metadata": {},
   "outputs": [],
   "source": [
    "df['ca_labels'] = df['Subject'].map({'Biology':0, 'Chemistry':1, 'Maths':2, 'Physics':3})"
   ]
  },
  {
   "cell_type": "code",
   "execution_count": 6,
   "metadata": {},
   "outputs": [],
   "source": [
    "y = df['ca_labels'].values"
   ]
  },
  {
   "cell_type": "code",
   "execution_count": 7,
   "metadata": {},
   "outputs": [
    {
     "data": {
      "text/plain": [
       "(122519,)"
      ]
     },
     "execution_count": 7,
     "metadata": {},
     "output_type": "execute_result"
    }
   ],
   "source": [
    "y.shape"
   ]
  },
  {
   "cell_type": "code",
   "execution_count": 8,
   "metadata": {},
   "outputs": [],
   "source": [
    "x = df['eng'].values"
   ]
  },
  {
   "cell_type": "code",
   "execution_count": 9,
   "metadata": {},
   "outputs": [],
   "source": [
    "for i in range(len(x)):\n",
    "    x[i] = x[i].replace('\\n', ' ')"
   ]
  },
  {
   "cell_type": "code",
   "execution_count": 10,
   "metadata": {},
   "outputs": [],
   "source": [
    "x_train, x_test, y_train, y_test = train_test_split(x, y,test_size=0.33, shuffle=True)"
   ]
  },
  {
   "cell_type": "code",
   "execution_count": 11,
   "metadata": {},
   "outputs": [],
   "source": [
    "vocab_size = 1000\n",
    "oov_token = '<oov>'\n",
    "trunc='post'\n",
    "maxlen = 50\n",
    "embedded_dim = 8"
   ]
  },
  {
   "cell_type": "code",
   "execution_count": 12,
   "metadata": {},
   "outputs": [],
   "source": [
    "tokenizer = Tokenizer(num_words=vocab_size, oov_token=oov_token)"
   ]
  },
  {
   "cell_type": "code",
   "execution_count": 13,
   "metadata": {},
   "outputs": [],
   "source": [
    "tokenizer.fit_on_texts(x_train)\n",
    "word_index = tokenizer.word_index"
   ]
  },
  {
   "cell_type": "code",
   "execution_count": 14,
   "metadata": {},
   "outputs": [
    {
     "data": {
      "text/plain": [
       "{'<oov>': 1,\n",
       " 'the': 2,\n",
       " 'a': 3,\n",
       " 'of': 4,\n",
       " '2': 5,\n",
       " 'c': 6,\n",
       " 'is': 7,\n",
       " 'b': 8,\n",
       " 'd': 9,\n",
       " 'boldsymbol': 10,\n",
       " '1': 11,\n",
       " 'and': 12,\n",
       " '3': 13,\n",
       " 'x': 14,\n",
       " 'in': 15,\n",
       " 'frac': 16,\n",
       " 'mathrm': 17,\n",
       " 'cdot': 18,\n",
       " '0': 19,\n",
       " 'mathbf': 20,\n",
       " '4': 21,\n",
       " 'h': 22,\n",
       " 'm': 23,\n",
       " 'to': 24,\n",
       " 'o': 25,\n",
       " 'n': 26,\n",
       " 'are': 27,\n",
       " '5': 28,\n",
       " 's': 29,\n",
       " 'right': 30,\n",
       " 'i': 31,\n",
       " 'left': 32,\n",
       " 'r': 33,\n",
       " 'p': 34,\n",
       " '10': 35,\n",
       " 'correct': 36,\n",
       " 'at': 37,\n",
       " 'e': 38,\n",
       " 'y': 39,\n",
       " 'l': 40,\n",
       " 'which': 41,\n",
       " 'g': 42,\n",
       " '6': 43,\n",
       " 'if': 44,\n",
       " 'k': 45,\n",
       " 'f': 46,\n",
       " 'for': 47,\n",
       " 'with': 48,\n",
       " 'reason': 49,\n",
       " 'assertion': 50,\n",
       " 'by': 51,\n",
       " 'following': 52,\n",
       " 't': 53,\n",
       " 'в': 54,\n",
       " 'v': 55,\n",
       " 'be': 56,\n",
       " 'an': 57,\n",
       " 'times': 58,\n",
       " 'then': 59,\n",
       " 'on': 60,\n",
       " 'from': 61,\n",
       " 'sqrt': 62,\n",
       " '8': 63,\n",
       " 'that': 64,\n",
       " 'both': 65,\n",
       " 'find': 66,\n",
       " 'q': 67,\n",
       " '7': 68,\n",
       " 'circ': 69,\n",
       " 'pi': 70,\n",
       " 'as': 71,\n",
       " 'it': 72,\n",
       " 'cm': 73,\n",
       " 'not': 74,\n",
       " 'two': 75,\n",
       " 'has': 76,\n",
       " 'what': 77,\n",
       " 'will': 78,\n",
       " 'true': 79,\n",
       " 'but': 80,\n",
       " 'none': 81,\n",
       " 'its': 82,\n",
       " 'array': 83,\n",
       " 'one': 84,\n",
       " 'z': 85,\n",
       " '9': 86,\n",
       " 'number': 87,\n",
       " 'when': 88,\n",
       " 'water': 89,\n",
       " 'given': 90,\n",
       " 'mass': 91,\n",
       " 'text': 92,\n",
       " 'energy': 93,\n",
       " 'sin': 94,\n",
       " 'rightarrow': 95,\n",
       " 'these': 96,\n",
       " 'j': 97,\n",
       " 'reaction': 98,\n",
       " 'this': 99,\n",
       " 'between': 100,\n",
       " 'statement': 101,\n",
       " 'value': 102,\n",
       " 'point': 103,\n",
       " 'explanation': 104,\n",
       " 'same': 105,\n",
       " 'end': 106,\n",
       " 'above': 107,\n",
       " 'cos': 108,\n",
       " 'all': 109,\n",
       " 'angle': 110,\n",
       " 'ii': 111,\n",
       " 'velocity': 112,\n",
       " 'false': 113,\n",
       " '20': 114,\n",
       " 'equal': 115,\n",
       " 'hat': 116,\n",
       " 'solution': 117,\n",
       " 'can': 118,\n",
       " '12': 119,\n",
       " 'incorrect': 120,\n",
       " 'acid': 121,\n",
       " 'u': 122,\n",
       " 'than': 123,\n",
       " 'temperature': 124,\n",
       " 'force': 125,\n",
       " 'or': 126,\n",
       " 'current': 127,\n",
       " 'begin': 128,\n",
       " 'distance': 129,\n",
       " 'constant': 130,\n",
       " 'length': 131,\n",
       " 'field': 132,\n",
       " 'theta': 133,\n",
       " 'vec': 134,\n",
       " 'each': 135,\n",
       " 'omega': 136,\n",
       " 'time': 137,\n",
       " '25': 138,\n",
       " 'gas': 139,\n",
       " 'radius': 140,\n",
       " 'through': 141,\n",
       " 'pressure': 142,\n",
       " 'question': 143,\n",
       " 'light': 144,\n",
       " 'delta': 145,\n",
       " 'have': 146,\n",
       " 'only': 147,\n",
       " 'alpha': 148,\n",
       " 'operatorname': 149,\n",
       " 'surface': 150,\n",
       " '15': 151,\n",
       " 'prime': 152,\n",
       " 'respectively': 153,\n",
       " 'speed': 154,\n",
       " 'iii': 155,\n",
       " '100': 156,\n",
       " 'magnetic': 157,\n",
       " '30': 158,\n",
       " 'charge': 159,\n",
       " 'tan': 160,\n",
       " 'mu': 161,\n",
       " 'multiple': 162,\n",
       " 'body': 163,\n",
       " 'particle': 164,\n",
       " 'figure': 165,\n",
       " 'options': 166,\n",
       " 'area': 167,\n",
       " 'state': 168,\n",
       " '50': 169,\n",
       " 'shown': 170,\n",
       " 'used': 171,\n",
       " 'electric': 172,\n",
       " 'zero': 173,\n",
       " 'how': 174,\n",
       " 'heat': 175,\n",
       " 'potential': 176,\n",
       " 'line': 177,\n",
       " 'equation': 178,\n",
       " 'ratio': 179,\n",
       " 'first': 180,\n",
       " 'bar': 181,\n",
       " 'due': 182,\n",
       " '16': 183,\n",
       " 'axis': 184,\n",
       " 'resistance': 185,\n",
       " 'plane': 186,\n",
       " '11': 187,\n",
       " 'into': 188,\n",
       " 'wire': 189,\n",
       " 'w': 190,\n",
       " 'order': 191,\n",
       " 'where': 192,\n",
       " 'triangle': 193,\n",
       " 'hydrogen': 194,\n",
       " 'direction': 195,\n",
       " 'log': 196,\n",
       " 'maximum': 197,\n",
       " 'their': 198,\n",
       " 'more': 199,\n",
       " 'compound': 200,\n",
       " 'other': 201,\n",
       " 'rate': 202,\n",
       " 'cell': 203,\n",
       " '40': 204,\n",
       " '60': 205,\n",
       " 'quad': 206,\n",
       " 'electron': 207,\n",
       " 'form': 208,\n",
       " 'three': 209,\n",
       " 'no': 210,\n",
       " 'does': 211,\n",
       " 'volume': 212,\n",
       " 'lambda': 213,\n",
       " 'air': 214,\n",
       " 'change': 215,\n",
       " 'calculate': 216,\n",
       " 'electrons': 217,\n",
       " 'metal': 218,\n",
       " 'atom': 219,\n",
       " 'after': 220,\n",
       " 'placed': 221,\n",
       " 'function': 222,\n",
       " '13': 223,\n",
       " 'about': 224,\n",
       " 'acceleration': 225,\n",
       " 'system': 226,\n",
       " 'was': 227,\n",
       " 'formed': 228,\n",
       " 'increases': 229,\n",
       " 'total': 230,\n",
       " 'earth': 231,\n",
       " 'process': 232,\n",
       " 'points': 233,\n",
       " 'kg': 234,\n",
       " 'moving': 235,\n",
       " 'iv': 236,\n",
       " 'they': 237,\n",
       " 'such': 238,\n",
       " 'equilibrium': 239,\n",
       " 'write': 240,\n",
       " 'centre': 241,\n",
       " 'law': 242,\n",
       " '14': 243,\n",
       " 'sum': 244,\n",
       " 'int': 245,\n",
       " 'parallel': 246,\n",
       " 'second': 247,\n",
       " 'sec': 248,\n",
       " 'beta': 249,\n",
       " 'increase': 250,\n",
       " 'height': 251,\n",
       " 'positive': 252,\n",
       " 'different': 253,\n",
       " 'uniform': 254,\n",
       " 'carbon': 255,\n",
       " 'per': 256,\n",
       " 'along': 257,\n",
       " 'type': 258,\n",
       " 'difference': 259,\n",
       " 'frequency': 260,\n",
       " 'oxygen': 261,\n",
       " 'bond': 262,\n",
       " 'liquid': 263,\n",
       " 'there': 264,\n",
       " 'any': 265,\n",
       " '18': 266,\n",
       " 'circuit': 267,\n",
       " 'statements': 268,\n",
       " 'motion': 269,\n",
       " 'object': 270,\n",
       " 'non': 271,\n",
       " 'ball': 272,\n",
       " 'lens': 273,\n",
       " 'circle': 274,\n",
       " 'called': 275,\n",
       " 'having': 276,\n",
       " 'square': 277,\n",
       " 'high': 278,\n",
       " '24': 279,\n",
       " 'give': 280,\n",
       " 'name': 281,\n",
       " 'out': 282,\n",
       " 'atomic': 283,\n",
       " 'density': 284,\n",
       " 'mol': 285,\n",
       " 'during': 286,\n",
       " 'less': 287,\n",
       " 'elements': 288,\n",
       " 'unit': 289,\n",
       " 'many': 290,\n",
       " '45': 291,\n",
       " 'wave': 292,\n",
       " 'horizontal': 293,\n",
       " 'so': 294,\n",
       " 'concentration': 295,\n",
       " 'because': 296,\n",
       " 'present': 297,\n",
       " 'would': 298,\n",
       " 'coil': 299,\n",
       " 'position': 300,\n",
       " 'side': 301,\n",
       " 'connected': 302,\n",
       " 'ldots': 303,\n",
       " 'work': 304,\n",
       " 'numbers': 305,\n",
       " 'sphere': 306,\n",
       " 'rs': 307,\n",
       " 'let': 308,\n",
       " 'element': 309,\n",
       " 'particles': 310,\n",
       " 'product': 311,\n",
       " 'molecules': 312,\n",
       " 'series': 313,\n",
       " 'leq': 314,\n",
       " 'magnitude': 315,\n",
       " 'decreases': 316,\n",
       " 'mole': 317,\n",
       " 'wavelength': 318,\n",
       " 'weight': 319,\n",
       " 'below': 320,\n",
       " 'show': 321,\n",
       " '90': 322,\n",
       " 'chemical': 323,\n",
       " 'atoms': 324,\n",
       " 'oxidation': 325,\n",
       " 'group': 326,\n",
       " 'up': 327,\n",
       " 'contains': 328,\n",
       " 'half': 329,\n",
       " 'solid': 330,\n",
       " 'them': 331,\n",
       " 'block': 332,\n",
       " 'four': 333,\n",
       " 'mirror': 334,\n",
       " 'found': 335,\n",
       " 'longrightarrow': 336,\n",
       " 'angular': 337,\n",
       " 'mean': 338,\n",
       " 'perpendicular': 339,\n",
       " 'term': 340,\n",
       " 'probability': 341,\n",
       " 'mm': 342,\n",
       " 'using': 343,\n",
       " 'circular': 344,\n",
       " 'sodium': 345,\n",
       " 'image': 346,\n",
       " 'rest': 347,\n",
       " 'units': 348,\n",
       " 'material': 349,\n",
       " 'compounds': 350,\n",
       " '27': 351,\n",
       " 'amount': 352,\n",
       " 'straight': 353,\n",
       " '17': 354,\n",
       " 'infty': 355,\n",
       " 'overrightarrow': 356,\n",
       " 'answer': 357,\n",
       " '80': 358,\n",
       " 'made': 359,\n",
       " 'copper': 360,\n",
       " 'cells': 361,\n",
       " 'terms': 362,\n",
       " 'power': 363,\n",
       " '200': 364,\n",
       " 'whose': 365,\n",
       " 'most': 366,\n",
       " 'long': 367,\n",
       " 'kinetic': 368,\n",
       " 'ground': 369,\n",
       " '32': 370,\n",
       " 'rod': 371,\n",
       " 'negative': 372,\n",
       " 'small': 373,\n",
       " 'red': 374,\n",
       " 'lines': 375,\n",
       " 'required': 376,\n",
       " 'formula': 377,\n",
       " 'minimum': 378,\n",
       " 'produced': 379,\n",
       " 'mixture': 380,\n",
       " 'towards': 381,\n",
       " 'explain': 382,\n",
       " 'you': 383,\n",
       " 'voltage': 384,\n",
       " 'formation': 385,\n",
       " 'do': 386,\n",
       " 'another': 387,\n",
       " 'iron': 388,\n",
       " 'greater': 389,\n",
       " 'molecule': 390,\n",
       " 'he': 391,\n",
       " 'dots': 392,\n",
       " 'done': 393,\n",
       " 'base': 394,\n",
       " 'why': 395,\n",
       " 'obtained': 396,\n",
       " 'conductor': 397,\n",
       " 'graph': 398,\n",
       " 'solve': 399,\n",
       " 'gives': 400,\n",
       " 'initial': 401,\n",
       " 'values': 402,\n",
       " 'low': 403,\n",
       " 'blood': 404,\n",
       " 'increasing': 405,\n",
       " 'nitrogen': 406,\n",
       " '75': 407,\n",
       " '36': 408,\n",
       " 'momentum': 409,\n",
       " 'set': 410,\n",
       " 'ray': 411,\n",
       " 'rightleftharpoons': 412,\n",
       " 'period': 413,\n",
       " 'moves': 414,\n",
       " 'your': 415,\n",
       " 'should': 416,\n",
       " 'some': 417,\n",
       " 'while': 418,\n",
       " 'rho': 419,\n",
       " 'man': 420,\n",
       " '22': 421,\n",
       " 'nature': 422,\n",
       " 'medium': 423,\n",
       " 'sigma': 424,\n",
       " 'shows': 425,\n",
       " 'charged': 426,\n",
       " 'place': 427,\n",
       " 'vector': 428,\n",
       " 'prove': 429,\n",
       " 'mid': 430,\n",
       " 'ions': 431,\n",
       " 'nucleus': 432,\n",
       " 'table': 433,\n",
       " 'ion': 434,\n",
       " 'sound': 435,\n",
       " 'must': 436,\n",
       " 'displacement': 437,\n",
       " 'coefficient': 438,\n",
       " 'free': 439,\n",
       " 'epsilon': 440,\n",
       " 'molecular': 441,\n",
       " 'also': 442,\n",
       " 'real': 443,\n",
       " 'linear': 444,\n",
       " 'identify': 445,\n",
       " 'average': 446,\n",
       " 'may': 447,\n",
       " 'enter': 448,\n",
       " 'source': 449,\n",
       " 'diagram': 450,\n",
       " 'friction': 451,\n",
       " 'phase': 452,\n",
       " 'effect': 453,\n",
       " '19': 454,\n",
       " 'charges': 455,\n",
       " 'reactions': 456,\n",
       " 'column': 457,\n",
       " 'cannot': 458,\n",
       " 'sides': 459,\n",
       " 'co': 460,\n",
       " 'move': 461,\n",
       " 'waves': 462,\n",
       " 'region': 463,\n",
       " 'among': 464,\n",
       " '21': 465,\n",
       " 'remains': 466,\n",
       " 'varepsilon': 467,\n",
       " 'metals': 468,\n",
       " 'decrease': 469,\n",
       " 'focal': 470,\n",
       " 'emf': 471,\n",
       " 'whether': 472,\n",
       " 'specific': 473,\n",
       " 'common': 474,\n",
       " 'moment': 475,\n",
       " 'chloride': 476,\n",
       " 'lim': 477,\n",
       " 'under': 478,\n",
       " 'known': 479,\n",
       " 'choose': 480,\n",
       " 'diameter': 481,\n",
       " 'internal': 482,\n",
       " 'oxide': 483,\n",
       " 'plants': 484,\n",
       " '23': 485,\n",
       " 'possible': 486,\n",
       " 'increased': 487,\n",
       " 'sulphur': 488,\n",
       " 'part': 489,\n",
       " 'loop': 490,\n",
       " '500': 491,\n",
       " '35': 492,\n",
       " 'car': 493,\n",
       " 'white': 494,\n",
       " 'complex': 495,\n",
       " 'stackrel': 496,\n",
       " 'across': 497,\n",
       " 'substance': 498,\n",
       " 'always': 499,\n",
       " 'angles': 500,\n",
       " 'ln': 501,\n",
       " 'taken': 502,\n",
       " 'plate': 503,\n",
       " 'll': 504,\n",
       " 'becomes': 505,\n",
       " 'evaluate': 506,\n",
       " 'cc': 507,\n",
       " 'we': 508,\n",
       " 'overline': 509,\n",
       " 'glass': 510,\n",
       " 'his': 511,\n",
       " 'structure': 512,\n",
       " 'down': 513,\n",
       " 'over': 514,\n",
       " 'cross': 515,\n",
       " 'atm': 516,\n",
       " 'presence': 517,\n",
       " 'take': 518,\n",
       " 'matrix': 519,\n",
       " 'certain': 520,\n",
       " '300': 521,\n",
       " 'neq': 522,\n",
       " 'added': 523,\n",
       " 'capacitor': 524,\n",
       " 'gamma': 525,\n",
       " 'normal': 526,\n",
       " 'method': 527,\n",
       " 'size': 528,\n",
       " 'ml': 529,\n",
       " 'intensity': 530,\n",
       " 'consider': 531,\n",
       " 'relation': 532,\n",
       " 'very': 533,\n",
       " '28': 534,\n",
       " 'glucose': 535,\n",
       " 'changes': 536,\n",
       " 'orbit': 537,\n",
       " 'km': 538,\n",
       " 'pair': 539,\n",
       " 'bonds': 540,\n",
       " 'gravity': 541,\n",
       " 'much': 542,\n",
       " 'ideal': 543,\n",
       " 'cot': 544,\n",
       " 'reduction': 545,\n",
       " 'passing': 546,\n",
       " 'proportional': 547,\n",
       " 'tube': 548,\n",
       " '120': 549,\n",
       " 'boiling': 550,\n",
       " 'higher': 551,\n",
       " 'pm': 552,\n",
       " 'dipole': 553,\n",
       " 'turns': 554,\n",
       " 'years': 555,\n",
       " 'applied': 556,\n",
       " 'ch': 557,\n",
       " 'containing': 558,\n",
       " 'aqueous': 559,\n",
       " 'inside': 560,\n",
       " 'origin': 561,\n",
       " 'ccc': 562,\n",
       " 'example': 563,\n",
       " 'experiment': 564,\n",
       " 'induced': 565,\n",
       " 'path': 566,\n",
       " 'takes': 567,\n",
       " 'species': 568,\n",
       " 'agent': 569,\n",
       " 'hline': 570,\n",
       " 'convex': 571,\n",
       " 'wall': 572,\n",
       " 'least': 573,\n",
       " 'large': 574,\n",
       " 'without': 575,\n",
       " 'opposite': 576,\n",
       " 'green': 577,\n",
       " 'phi': 578,\n",
       " 'match': 579,\n",
       " 'vertical': 580,\n",
       " 'rays': 581,\n",
       " 'tabular': 582,\n",
       " 'select': 583,\n",
       " 'drawn': 584,\n",
       " 'lower': 585,\n",
       " 'data': 586,\n",
       " 'plant': 587,\n",
       " 'salt': 588,\n",
       " 'draw': 589,\n",
       " 'gases': 590,\n",
       " 'chlorine': 591,\n",
       " '1000': 592,\n",
       " 'blue': 593,\n",
       " 'string': 594,\n",
       " 'forms': 595,\n",
       " 'use': 596,\n",
       " 'cap': 597,\n",
       " 'determine': 598,\n",
       " 'list': 599,\n",
       " 'moles': 600,\n",
       " 'represents': 601,\n",
       " 'capacity': 602,\n",
       " 'colour': 603,\n",
       " 'double': 604,\n",
       " 'plates': 605,\n",
       " 'level': 606,\n",
       " 'incident': 607,\n",
       " 'cylinder': 608,\n",
       " 'simple': 609,\n",
       " 'fixed': 610,\n",
       " '33': 611,\n",
       " 'refractive': 612,\n",
       " 'index': 613,\n",
       " 'respect': 614,\n",
       " 'cube': 615,\n",
       " 'vectors': 616,\n",
       " 'occurs': 617,\n",
       " 'forces': 618,\n",
       " 'vapour': 619,\n",
       " 'amplitude': 620,\n",
       " 'masses': 621,\n",
       " 'natural': 622,\n",
       " 'min': 623,\n",
       " 'continuous': 624,\n",
       " 'kept': 625,\n",
       " 'acids': 626,\n",
       " 'organic': 627,\n",
       " '64': 628,\n",
       " 'ms': 629,\n",
       " 'produce': 630,\n",
       " 'curve': 631,\n",
       " 'balls': 632,\n",
       " 'nuclear': 633,\n",
       " 'geq': 634,\n",
       " 'secondary': 635,\n",
       " 'deviation': 636,\n",
       " '70': 637,\n",
       " 'standard': 638,\n",
       " 'pairs': 639,\n",
       " 'reflection': 640,\n",
       " '26': 641,\n",
       " 'root': 642,\n",
       " 'primary': 643,\n",
       " 'identical': 644,\n",
       " 'battery': 645,\n",
       " 'reduced': 646,\n",
       " '400': 647,\n",
       " 'closed': 648,\n",
       " 'dna': 649,\n",
       " 'pure': 650,\n",
       " 'according': 651,\n",
       " 'space': 652,\n",
       " 'acidic': 653,\n",
       " 'were': 654,\n",
       " 'roots': 655,\n",
       " 'defined': 656,\n",
       " 'released': 657,\n",
       " 'equivalent': 658,\n",
       " 'gravitational': 659,\n",
       " 'around': 660,\n",
       " 'degree': 661,\n",
       " 'third': 662,\n",
       " 'seconds': 663,\n",
       " 'heated': 664,\n",
       " '48': 665,\n",
       " 'integer': 666,\n",
       " 'products': 667,\n",
       " 'percentage': 668,\n",
       " 'ring': 669,\n",
       " 'ice': 670,\n",
       " 'shape': 671,\n",
       " 'molar': 672,\n",
       " 'equations': 673,\n",
       " 'calcium': 674,\n",
       " 'collision': 675,\n",
       " 'heating': 676,\n",
       " 'cycle': 677,\n",
       " 'new': 678,\n",
       " 'dioxide': 679,\n",
       " 'like': 680,\n",
       " 'vessel': 681,\n",
       " 'potassium': 682,\n",
       " 'top': 683,\n",
       " 'cup': 684,\n",
       " 'similar': 685,\n",
       " 'carrying': 686,\n",
       " 'black': 687,\n",
       " 'properties': 688,\n",
       " 'flux': 689,\n",
       " 'methyl': 690,\n",
       " 'alcohol': 691,\n",
       " 'reacts': 692,\n",
       " 'proton': 693,\n",
       " 'food': 694,\n",
       " 'factor': 695,\n",
       " 'relative': 696,\n",
       " 'make': 697,\n",
       " 'being': 698,\n",
       " 'sun': 699,\n",
       " 'thin': 700,\n",
       " 'shell': 701,\n",
       " 'complete': 702,\n",
       " 'benzene': 703,\n",
       " 'section': 704,\n",
       " 'final': 705,\n",
       " 'configuration': 706,\n",
       " '34': 707,\n",
       " 'spherical': 708,\n",
       " 'makes': 709,\n",
       " 'starts': 710,\n",
       " 'independent': 711,\n",
       " 'expression': 712,\n",
       " 'contact': 713,\n",
       " 'decreasing': 714,\n",
       " 'case': 715,\n",
       " 'iupac': 716,\n",
       " 'addition': 717,\n",
       " 'concave': 718,\n",
       " 'now': 719,\n",
       " \"'\": 720,\n",
       " '150': 721,\n",
       " 'depends': 722,\n",
       " 'center': 723,\n",
       " 'orbitals': 724,\n",
       " 'away': 725,\n",
       " 'prism': 726,\n",
       " 'spring': 727,\n",
       " 'filled': 728,\n",
       " 'magnet': 729,\n",
       " 'smaller': 730,\n",
       " 'acting': 731,\n",
       " 'human': 732,\n",
       " 'sample': 733,\n",
       " 'kj': 734,\n",
       " '01': 735,\n",
       " '000': 736,\n",
       " 'silver': 737,\n",
       " 'flow': 738,\n",
       " 'interval': 739,\n",
       " 'get': 740,\n",
       " 'sequence': 741,\n",
       " 'nor': 742,\n",
       " '65': 743,\n",
       " 'passes': 744,\n",
       " 'parts': 745,\n",
       " 'periodic': 746,\n",
       " 'random': 747,\n",
       " 'ammonia': 748,\n",
       " 'sq': 749,\n",
       " 'ph': 750,\n",
       " 'stable': 751,\n",
       " 'bonding': 752,\n",
       " '55': 753,\n",
       " 'person': 754,\n",
       " 'soil': 755,\n",
       " 'equals': 756,\n",
       " 'fraction': 757,\n",
       " 'transition': 758,\n",
       " 'option': 759,\n",
       " 'combination': 760,\n",
       " 'neither': 761,\n",
       " 'cathode': 762,\n",
       " 'differential': 763,\n",
       " 'expansion': 764,\n",
       " 'range': 765,\n",
       " 'net': 766,\n",
       " 'aluminium': 767,\n",
       " 'produces': 768,\n",
       " '00': 769,\n",
       " 'reducing': 770,\n",
       " 'test': 771,\n",
       " 'vertically': 772,\n",
       " 'life': 773,\n",
       " 'disc': 774,\n",
       " 'radii': 775,\n",
       " 'oil': 776,\n",
       " 'physical': 777,\n",
       " 'principle': 778,\n",
       " 'quantity': 779,\n",
       " 'lll': 780,\n",
       " 'corresponding': 781,\n",
       " 'doubled': 782,\n",
       " 'fill': 783,\n",
       " 'basic': 784,\n",
       " 'highest': 785,\n",
       " 'inertia': 786,\n",
       " 'radiation': 787,\n",
       " 'atmosphere': 788,\n",
       " 'external': 789,\n",
       " 'single': 790,\n",
       " 'enthalpy': 791,\n",
       " 'electronic': 792,\n",
       " 'orbital': 793,\n",
       " 'strength': 794,\n",
       " '54': 795,\n",
       " 'eye': 796,\n",
       " 'solutions': 797,\n",
       " 'minutes': 798,\n",
       " 'beam': 799,\n",
       " 'students': 800,\n",
       " 'electricity': 801,\n",
       " '180': 802,\n",
       " 'lead': 803,\n",
       " 'resistor': 804,\n",
       " 'represent': 805,\n",
       " 'theory': 806,\n",
       " 'conducting': 807,\n",
       " 'metallic': 808,\n",
       " 'represented': 809,\n",
       " 'hz': 810,\n",
       " 'electrical': 811,\n",
       " 'directly': 812,\n",
       " 'property': 813,\n",
       " '31': 814,\n",
       " 'acts': 815,\n",
       " 'thermal': 816,\n",
       " '37': 817,\n",
       " 'measure': 818,\n",
       " 'capacitance': 819,\n",
       " 'class': 820,\n",
       " 'bodies': 821,\n",
       " '44': 822,\n",
       " 'ionic': 823,\n",
       " 'litre': 824,\n",
       " 'before': 825,\n",
       " 'passed': 826,\n",
       " 'covalent': 827,\n",
       " 'tension': 828,\n",
       " 'assume': 829,\n",
       " 'solubility': 830,\n",
       " 'wires': 831,\n",
       " 'nm': 832,\n",
       " 'occur': 833,\n",
       " 'inclined': 834,\n",
       " 'strong': 835,\n",
       " 'stationary': 836,\n",
       " 'reflected': 837,\n",
       " 'even': 838,\n",
       " 'infinite': 839,\n",
       " 'smooth': 840,\n",
       " 'initially': 841,\n",
       " 'layer': 842,\n",
       " 'excess': 843,\n",
       " '42': 844,\n",
       " '56': 845,\n",
       " 'scale': 846,\n",
       " 'either': 847,\n",
       " 'neutrons': 848,\n",
       " 'fig': 849,\n",
       " 'become': 850,\n",
       " 'completely': 851,\n",
       " 'growth': 852,\n",
       " 'modulus': 853,\n",
       " 'protons': 854,\n",
       " 'ev': 855,\n",
       " 'north': 856,\n",
       " 'screen': 857,\n",
       " 'slope': 858,\n",
       " 'define': 859,\n",
       " 'chain': 860,\n",
       " 'volt': 861,\n",
       " 'catalyst': 862,\n",
       " 'every': 863,\n",
       " 'th': 864,\n",
       " 'container': 865,\n",
       " '29': 866,\n",
       " 'upon': 867,\n",
       " 'component': 868,\n",
       " 'ends': 869,\n",
       " 'measured': 870,\n",
       " 'lies': 871,\n",
       " 'drop': 872,\n",
       " 'division': 873,\n",
       " 'mercury': 874,\n",
       " 'day': 875,\n",
       " 'original': 876,\n",
       " 'leaves': 877,\n",
       " '05': 878,\n",
       " '250': 879,\n",
       " '52': 880,\n",
       " 'hydrolysis': 881,\n",
       " 'sugar': 882,\n",
       " 'inductance': 883,\n",
       " 'together': 884,\n",
       " 'vertices': 885,\n",
       " '72': 886,\n",
       " 'separation': 887,\n",
       " 'observed': 888,\n",
       " 'bottom': 889,\n",
       " 'conditions': 890,\n",
       " 'mixed': 891,\n",
       " 'outer': 892,\n",
       " 'distribution': 893,\n",
       " 'heart': 894,\n",
       " 'box': 895,\n",
       " 'cal': 896,\n",
       " 'contain': 897,\n",
       " 'ohm': 898,\n",
       " 'action': 899,\n",
       " 'exists': 900,\n",
       " 'hg': 901,\n",
       " 'parallelogram': 902,\n",
       " \"earth's\": 903,\n",
       " 'central': 904,\n",
       " 'condition': 905,\n",
       " 'dissociation': 906,\n",
       " 'events': 907,\n",
       " 'room': 908,\n",
       " 'paper': 909,\n",
       " 'planet': 910,\n",
       " 'based': 911,\n",
       " 'falls': 912,\n",
       " 'been': 913,\n",
       " 'induction': 914,\n",
       " 'year': 915,\n",
       " 'family': 916,\n",
       " 'open': 917,\n",
       " 'assuming': 918,\n",
       " 'refraction': 919,\n",
       " 'pole': 920,\n",
       " 'steel': 921,\n",
       " 'converted': 922,\n",
       " 'conc': 923,\n",
       " 'well': 924,\n",
       " 'else': 925,\n",
       " 'electromagnetic': 926,\n",
       " 'protein': 927,\n",
       " '49': 928,\n",
       " 'thrown': 929,\n",
       " 'amino': 930,\n",
       " 'joining': 931,\n",
       " 'acetic': 932,\n",
       " 'remain': 933,\n",
       " 'making': 934,\n",
       " 'forward': 935,\n",
       " 'ethyl': 936,\n",
       " 'related': 937,\n",
       " 'fall': 938,\n",
       " 'conductivity': 939,\n",
       " 'soluble': 940,\n",
       " 'phosphorus': 941,\n",
       " 'sim': 942,\n",
       " 'twice': 943,\n",
       " 'just': 944,\n",
       " 'yellow': 945,\n",
       " 'near': 946,\n",
       " '600': 947,\n",
       " 'solenoid': 948,\n",
       " 'five': 949,\n",
       " 'radioactive': 950,\n",
       " 'dissolved': 951,\n",
       " 'greatest': 952,\n",
       " 'short': 953,\n",
       " 'inner': 954,\n",
       " 'ozone': 955,\n",
       " '02': 956,\n",
       " 'combustion': 957,\n",
       " 'loss': 958,\n",
       " 'wrong': 959,\n",
       " 'melting': 960,\n",
       " 'polynomial': 961,\n",
       " 'days': 962,\n",
       " 'zinc': 963,\n",
       " 'anode': 964,\n",
       " 'enzyme': 965,\n",
       " 'separated': 966,\n",
       " 'electrode': 967,\n",
       " 'bulb': 968,\n",
       " 'regarding': 969,\n",
       " 'equiv': 970,\n",
       " 'isomers': 971,\n",
       " 'substances': 972,\n",
       " 'objects': 973,\n",
       " 'active': 974,\n",
       " 'odd': 975,\n",
       " 'neutral': 976,\n",
       " 'sulphate': 977,\n",
       " 'flowing': 978,\n",
       " 'exist': 979,\n",
       " 'gets': 980,\n",
       " 'cost': 981,\n",
       " 'harmonic': 982,\n",
       " 'wedge': 983,\n",
       " 'help': 984,\n",
       " '66': 985,\n",
       " 'rise': 986,\n",
       " 'prepared': 987,\n",
       " 'hence': 988,\n",
       " 'emitted': 989,\n",
       " 'elastic': 990,\n",
       " 'travels': 991,\n",
       " 'ethanol': 992,\n",
       " '38': 993,\n",
       " 'divided': 994,\n",
       " 'resultant': 995,\n",
       " 'gm': 996,\n",
       " 'weak': 997,\n",
       " '125': 998,\n",
       " 'dropped': 999,\n",
       " 'matter': 1000,\n",
       " ...}"
      ]
     },
     "execution_count": 14,
     "metadata": {},
     "output_type": "execute_result"
    }
   ],
   "source": [
    "word_index"
   ]
  },
  {
   "cell_type": "code",
   "execution_count": 15,
   "metadata": {},
   "outputs": [],
   "source": [
    "sequences = tokenizer.texts_to_sequences(x_train)"
   ]
  },
  {
   "cell_type": "code",
   "execution_count": 16,
   "metadata": {},
   "outputs": [
    {
     "data": {
      "text/plain": [
       "36226"
      ]
     },
     "execution_count": 16,
     "metadata": {},
     "output_type": "execute_result"
    }
   ],
   "source": [
    "len(word_index)"
   ]
  },
  {
   "cell_type": "code",
   "execution_count": 17,
   "metadata": {},
   "outputs": [],
   "source": [
    "padded = pad_sequences(sequences, maxlen=maxlen, truncating=trunc)"
   ]
  },
  {
   "cell_type": "code",
   "execution_count": 18,
   "metadata": {},
   "outputs": [
    {
     "data": {
      "text/plain": [
       "(82087, 50)"
      ]
     },
     "execution_count": 18,
     "metadata": {},
     "output_type": "execute_result"
    }
   ],
   "source": [
    "padded.shape"
   ]
  },
  {
   "cell_type": "code",
   "execution_count": 19,
   "metadata": {},
   "outputs": [],
   "source": [
    "testing_sequence = tokenizer.texts_to_sequences(x_test)\n",
    "test_padded = pad_sequences(testing_sequence, maxlen=maxlen)"
   ]
  },
  {
   "cell_type": "code",
   "execution_count": 20,
   "metadata": {},
   "outputs": [
    {
     "data": {
      "text/plain": [
       "(40432, 50)"
      ]
     },
     "execution_count": 20,
     "metadata": {},
     "output_type": "execute_result"
    }
   ],
   "source": [
    "test_padded.shape"
   ]
  },
  {
   "cell_type": "code",
   "execution_count": 21,
   "metadata": {},
   "outputs": [],
   "source": [
    "model = tf.keras.Sequential([\n",
    "    tf.keras.layers.Embedding(vocab_size,embedded_dim,input_length=maxlen),\n",
    "    tf.keras.layers.GlobalMaxPooling1D(),\n",
    "    tf.keras.layers.Dense(30, activation='relu'),\n",
    "    tf.keras.layers.Dense(4, activation='softmax')\n",
    "])"
   ]
  },
  {
   "cell_type": "code",
   "execution_count": 22,
   "metadata": {},
   "outputs": [],
   "source": [
    "model.compile(loss='sparse_categorical_crossentropy',metrics=['acc'], optimizer='adam')"
   ]
  },
  {
   "cell_type": "code",
   "execution_count": 23,
   "metadata": {},
   "outputs": [
    {
     "name": "stdout",
     "output_type": "stream",
     "text": [
      "Epoch 1/10\n",
      "1283/1283 [==============================] - 4s 3ms/step - loss: 0.6432 - acc: 0.7682 - val_loss: 0.4587 - val_acc: 0.8295\n",
      "Epoch 2/10\n",
      "1283/1283 [==============================] - 4s 3ms/step - loss: 0.3620 - acc: 0.8682 - val_loss: 0.4103 - val_acc: 0.8448\n",
      "Epoch 3/10\n",
      "1283/1283 [==============================] - 4s 3ms/step - loss: 0.3252 - acc: 0.8793 - val_loss: 0.3951 - val_acc: 0.8521\n",
      "Epoch 4/10\n",
      "1283/1283 [==============================] - 4s 3ms/step - loss: 0.3098 - acc: 0.8853 - val_loss: 0.3947 - val_acc: 0.8521\n",
      "Epoch 5/10\n",
      "1283/1283 [==============================] - 4s 3ms/step - loss: 0.3001 - acc: 0.8887 - val_loss: 0.3907 - val_acc: 0.8547\n",
      "Epoch 6/10\n",
      "1283/1283 [==============================] - 4s 3ms/step - loss: 0.2934 - acc: 0.8906 - val_loss: 0.3876 - val_acc: 0.8557\n",
      "Epoch 7/10\n",
      "1283/1283 [==============================] - 4s 3ms/step - loss: 0.2884 - acc: 0.8926 - val_loss: 0.3884 - val_acc: 0.8569\n",
      "Epoch 8/10\n",
      "1283/1283 [==============================] - 4s 3ms/step - loss: 0.2847 - acc: 0.8937 - val_loss: 0.3879 - val_acc: 0.8584\n",
      "Epoch 9/10\n",
      "1283/1283 [==============================] - 4s 3ms/step - loss: 0.2813 - acc: 0.8951 - val_loss: 0.3923 - val_acc: 0.8560\n",
      "Epoch 10/10\n",
      "1283/1283 [==============================] - 4s 3ms/step - loss: 0.2787 - acc: 0.8965 - val_loss: 0.3863 - val_acc: 0.8568\n"
     ]
    }
   ],
   "source": [
    "hist = model.fit(padded,y_train,batch_size=64, epochs=10, validation_data=(test_padded,y_test), validation_batch_size=64)"
   ]
  },
  {
   "cell_type": "code",
   "execution_count": 26,
   "metadata": {},
   "outputs": [
    {
     "data": {
      "image/png": "[encoded data removed]",
      "text/plain": [
       "<Figure size 432x288 with 1 Axes>"
      ]
     },
     "metadata": {
      "needs_background": "light"
     },
     "output_type": "display_data"
    }
   ],
   "source": [
    "plot(hist)"
   ]
  },
  {
   "cell_type": "code",
   "execution_count": 27,
   "metadata": {},
   "outputs": [
    {
     "data": {
      "image/png": "[encoded data removed]",
      "text/plain": [
       "<Figure size 432x288 with 1 Axes>"
      ]
     },
     "metadata": {
      "needs_background": "light"
     },
     "output_type": "display_data"
    }
   ],
   "source": [
    "plot(hist, 'acc')"
   ]
  },
  {
   "cell_type": "code",
   "execution_count": 28,
   "metadata": {},
   "outputs": [],
   "source": [
    "model = tf.keras.Sequential([\n",
    "    tf.keras.layers.Embedding(vocab_size,embedded_dim,input_length=maxlen),\n",
    "    tf.keras.layers.LSTM(15, return_sequences=True),\n",
    "    tf.keras.layers.GlobalMaxPooling1D(),\n",
    "    tf.keras.layers.Dense(30, activation='relu'),\n",
    "    tf.keras.layers.Dense(4, activation='softmax')\n",
    "])"
   ]
  },
  {
   "cell_type": "code",
   "execution_count": 29,
   "metadata": {},
   "outputs": [],
   "source": [
    "model.compile(loss='sparse_categorical_crossentropy',metrics=['acc'], optimizer='adam')"
   ]
  },
  {
   "cell_type": "code",
   "execution_count": 30,
   "metadata": {},
   "outputs": [
    {
     "name": "stdout",
     "output_type": "stream",
     "text": [
      "Epoch 1/10\n",
      "1283/1283 [==============================] - 11s 9ms/step - loss: 0.5954 - acc: 0.7615 - val_loss: 0.4426 - val_acc: 0.8373\n",
      "Epoch 2/10\n",
      "1283/1283 [==============================] - 11s 8ms/step - loss: 0.3362 - acc: 0.8771 - val_loss: 0.3899 - val_acc: 0.8556\n",
      "Epoch 3/10\n",
      "1283/1283 [==============================] - 11s 8ms/step - loss: 0.3104 - acc: 0.8846 - val_loss: 0.3807 - val_acc: 0.8576\n",
      "Epoch 4/10\n",
      "1283/1283 [==============================] - 11s 8ms/step - loss: 0.2998 - acc: 0.8880 - val_loss: 0.3818 - val_acc: 0.8593\n",
      "Epoch 5/10\n",
      "1283/1283 [==============================] - 11s 8ms/step - loss: 0.2920 - acc: 0.8909 - val_loss: 0.3961 - val_acc: 0.8514\n",
      "Epoch 6/10\n",
      "1283/1283 [==============================] - 11s 8ms/step - loss: 0.2868 - acc: 0.8911 - val_loss: 0.3646 - val_acc: 0.8648\n",
      "Epoch 7/10\n",
      "1283/1283 [==============================] - 11s 8ms/step - loss: 0.2828 - acc: 0.8928 - val_loss: 0.3650 - val_acc: 0.8644\n",
      "Epoch 8/10\n",
      "1283/1283 [==============================] - 11s 8ms/step - loss: 0.2789 - acc: 0.8938 - val_loss: 0.3600 - val_acc: 0.8660\n",
      "Epoch 9/10\n",
      "1283/1283 [==============================] - 11s 8ms/step - loss: 0.2740 - acc: 0.8957 - val_loss: 0.3583 - val_acc: 0.8671\n",
      "Epoch 10/10\n",
      "1283/1283 [==============================] - 11s 8ms/step - loss: 0.2696 - acc: 0.8966 - val_loss: 0.3626 - val_acc: 0.8657\n"
     ]
    }
   ],
   "source": [
    "hist = model.fit(padded,y_train,batch_size=64, epochs=10, validation_data=(test_padded,y_test), validation_batch_size=64)"
   ]
  },
  {
   "cell_type": "code",
   "execution_count": 31,
   "metadata": {},
   "outputs": [
    {
     "data": {
      "image/png": "[encoded data removed]",
      "text/plain": [
       "<Figure size 432x288 with 1 Axes>"
      ]
     },
     "metadata": {
      "needs_background": "light"
     },
     "output_type": "display_data"
    }
   ],
   "source": [
    "plot(hist)"
   ]
  },
  {
   "cell_type": "code",
   "execution_count": 32,
   "metadata": {},
   "outputs": [
    {
     "data": {
      "image/png": "[encoded data removed]",
      "text/plain": [
       "<Figure size 432x288 with 1 Axes>"
      ]
     },
     "metadata": {
      "needs_background": "light"
     },
     "output_type": "display_data"
    }
   ],
   "source": [
    "plot(hist, 'acc')"
   ]
  },
  {
   "cell_type": "code",
   "execution_count": 38,
   "metadata": {},
   "outputs": [],
   "source": [
    "model = tf.keras.Sequential([\n",
    "    tf.keras.layers.Embedding(vocab_size,embedded_dim,input_length=maxlen),\n",
    "    tf.keras.layers.Bidirectional(LSTM(15, return_sequences=True)),\n",
    "    tf.keras.layers.GlobalMaxPooling1D(),\n",
    "    tf.keras.layers.Dense(30, activation='relu'),\n",
    "    tf.keras.layers.Dense(4, activation='softmax')\n",
    "])"
   ]
  },
  {
   "cell_type": "code",
   "execution_count": 39,
   "metadata": {},
   "outputs": [],
   "source": [
    "model.compile(loss='sparse_categorical_crossentropy',metrics=['acc'], optimizer='adam')"
   ]
  },
  {
   "cell_type": "code",
   "execution_count": 40,
   "metadata": {},
   "outputs": [
    {
     "name": "stdout",
     "output_type": "stream",
     "text": [
      "Epoch 1/10\n",
      "1283/1283 [==============================] - 17s 13ms/step - loss: 0.5287 - acc: 0.7947 - val_loss: 0.4190 - val_acc: 0.8482\n",
      "Epoch 2/10\n",
      "1283/1283 [==============================] - 17s 13ms/step - loss: 0.3286 - acc: 0.8794 - val_loss: 0.3848 - val_acc: 0.8566\n",
      "Epoch 3/10\n",
      "1283/1283 [==============================] - 17s 13ms/step - loss: 0.3067 - acc: 0.8844 - val_loss: 0.3826 - val_acc: 0.8582\n",
      "Epoch 4/10\n",
      "1283/1283 [==============================] - 16s 13ms/step - loss: 0.2961 - acc: 0.8888 - val_loss: 0.3901 - val_acc: 0.8599\n",
      "Epoch 5/10\n",
      "1283/1283 [==============================] - 17s 13ms/step - loss: 0.2877 - acc: 0.8916 - val_loss: 0.3854 - val_acc: 0.8614\n",
      "Epoch 6/10\n",
      "1283/1283 [==============================] - 17s 13ms/step - loss: 0.2808 - acc: 0.8934 - val_loss: 0.3749 - val_acc: 0.8616\n",
      "Epoch 7/10\n",
      "1283/1283 [==============================] - 16s 13ms/step - loss: 0.2758 - acc: 0.8955 - val_loss: 0.3608 - val_acc: 0.8654\n",
      "Epoch 8/10\n",
      "1283/1283 [==============================] - 16s 13ms/step - loss: 0.2700 - acc: 0.8972 - val_loss: 0.3506 - val_acc: 0.8675\n",
      "Epoch 9/10\n",
      "1283/1283 [==============================] - 16s 13ms/step - loss: 0.2648 - acc: 0.8997 - val_loss: 0.3569 - val_acc: 0.8685\n",
      "Epoch 10/10\n",
      "1283/1283 [==============================] - 16s 13ms/step - loss: 0.2611 - acc: 0.9001 - val_loss: 0.3538 - val_acc: 0.8693\n"
     ]
    }
   ],
   "source": [
    "hist = model.fit(padded,y_train,batch_size=64, epochs=10, validation_data=(test_padded,y_test), validation_batch_size=64)"
   ]
  },
  {
   "cell_type": "code",
   "execution_count": 41,
   "metadata": {},
   "outputs": [
    {
     "data": {
      "image/png": "[encoded data removed]",
      "text/plain": [
       "<Figure size 432x288 with 1 Axes>"
      ]
     },
     "metadata": {
      "needs_background": "light"
     },
     "output_type": "display_data"
    }
   ],
   "source": [
    "plot(hist)"
   ]
  },
  {
   "cell_type": "code",
   "execution_count": 42,
   "metadata": {},
   "outputs": [
    {
     "data": {
      "image/png": "[encoded data removed]",
      "text/plain": [
       "<Figure size 432x288 with 1 Axes>"
      ]
     },
     "metadata": {
      "needs_background": "light"
     },
     "output_type": "display_data"
    }
   ],
   "source": [
    "plot(hist, 'acc')"
   ]
  },
  {
   "cell_type": "code",
   "execution_count": 43,
   "metadata": {},
   "outputs": [],
   "source": [
    "model = tf.keras.Sequential([\n",
    "    tf.keras.layers.Embedding(vocab_size,embedded_dim,input_length=maxlen),\n",
    "    tf.keras.layers.GRU(15, return_sequences=True),\n",
    "    tf.keras.layers.GlobalMaxPooling1D(),\n",
    "    tf.keras.layers.Dense(30, activation='relu'),\n",
    "    tf.keras.layers.Dense(4, activation='softmax')\n",
    "])"
   ]
  },
  {
   "cell_type": "code",
   "execution_count": 44,
   "metadata": {},
   "outputs": [],
   "source": [
    "model.compile(loss='sparse_categorical_crossentropy',metrics=['acc'], optimizer='adam')"
   ]
  },
  {
   "cell_type": "code",
   "execution_count": 45,
   "metadata": {},
   "outputs": [
    {
     "name": "stdout",
     "output_type": "stream",
     "text": [
      "Epoch 1/10\n",
      "1283/1283 [==============================] - 11s 9ms/step - loss: 0.5603 - acc: 0.7734 - val_loss: 0.4554 - val_acc: 0.8313\n",
      "Epoch 2/10\n",
      "1283/1283 [==============================] - 11s 8ms/step - loss: 0.3439 - acc: 0.8729 - val_loss: 0.3950 - val_acc: 0.8513\n",
      "Epoch 3/10\n",
      "1283/1283 [==============================] - 11s 8ms/step - loss: 0.3156 - acc: 0.8826 - val_loss: 0.3766 - val_acc: 0.8588\n",
      "Epoch 4/10\n",
      "1283/1283 [==============================] - 11s 8ms/step - loss: 0.2988 - acc: 0.8886 - val_loss: 0.3752 - val_acc: 0.8605\n",
      "Epoch 5/10\n",
      "1283/1283 [==============================] - 11s 8ms/step - loss: 0.2873 - acc: 0.8924 - val_loss: 0.3723 - val_acc: 0.8637\n",
      "Epoch 6/10\n",
      "1283/1283 [==============================] - 11s 9ms/step - loss: 0.2801 - acc: 0.8944 - val_loss: 0.3617 - val_acc: 0.8649\n",
      "Epoch 7/10\n",
      "1283/1283 [==============================] - 9s 7ms/step - loss: 0.2736 - acc: 0.8965 - val_loss: 0.3657 - val_acc: 0.8638\n",
      "Epoch 8/10\n",
      "1283/1283 [==============================] - 8s 6ms/step - loss: 0.2680 - acc: 0.8993 - val_loss: 0.3620 - val_acc: 0.8662\n",
      "Epoch 9/10\n",
      "1283/1283 [==============================] - 8s 6ms/step - loss: 0.2636 - acc: 0.9000 - val_loss: 0.3665 - val_acc: 0.8661\n",
      "Epoch 10/10\n",
      "1283/1283 [==============================] - 8s 6ms/step - loss: 0.2594 - acc: 0.9019 - val_loss: 0.3528 - val_acc: 0.8686\n"
     ]
    }
   ],
   "source": [
    "hist = model.fit(padded,y_train,batch_size=64, epochs=10, validation_data=(test_padded,y_test), validation_batch_size=64)"
   ]
  },
  {
   "cell_type": "code",
   "execution_count": 46,
   "metadata": {},
   "outputs": [
    {
     "data": {
      "image/png": "[encoded data removed]",
      "text/plain": [
       "<Figure size 432x288 with 1 Axes>"
      ]
     },
     "metadata": {
      "needs_background": "light"
     },
     "output_type": "display_data"
    }
   ],
   "source": [
    "plot(hist)"
   ]
  },
  {
   "cell_type": "code",
   "execution_count": 47,
   "metadata": {},
   "outputs": [
    {
     "data": {
      "image/png": "[encoded data removed]",
      "text/plain": [
       "<Figure size 432x288 with 1 Axes>"
      ]
     },
     "metadata": {
      "needs_background": "light"
     },
     "output_type": "display_data"
    }
   ],
   "source": [
    "plot(hist, 'acc')"
   ]
  },
  {
   "cell_type": "code",
   "execution_count": 49,
   "metadata": {},
   "outputs": [],
   "source": [
    "model = tf.keras.Sequential([\n",
    "    tf.keras.layers.Embedding(vocab_size,embedded_dim,input_length=maxlen),\n",
    "    tf.keras.layers.Bidirectional(GRU(15, return_sequences=True)),\n",
    "    tf.keras.layers.GlobalMaxPooling1D(),\n",
    "    tf.keras.layers.Dense(30, activation='relu'),\n",
    "    tf.keras.layers.Dense(4, activation='softmax')\n",
    "])"
   ]
  },
  {
   "cell_type": "code",
   "execution_count": 50,
   "metadata": {},
   "outputs": [],
   "source": [
    "model.compile(loss='sparse_categorical_crossentropy',metrics=['acc'], optimizer='adam')"
   ]
  },
  {
   "cell_type": "code",
   "execution_count": 51,
   "metadata": {},
   "outputs": [
    {
     "name": "stdout",
     "output_type": "stream",
     "text": [
      "Epoch 1/10\n",
      "1283/1283 [==============================] - 11s 9ms/step - loss: 0.5247 - acc: 0.7971 - val_loss: 0.3935 - val_acc: 0.8553\n",
      "Epoch 2/10\n",
      "1283/1283 [==============================] - 10s 8ms/step - loss: 0.3162 - acc: 0.8838 - val_loss: 0.3675 - val_acc: 0.8629\n",
      "Epoch 3/10\n",
      "1283/1283 [==============================] - 11s 8ms/step - loss: 0.2950 - acc: 0.8899 - val_loss: 0.3633 - val_acc: 0.8660\n",
      "Epoch 4/10\n",
      "1283/1283 [==============================] - 10s 8ms/step - loss: 0.2834 - acc: 0.8937 - val_loss: 0.3672 - val_acc: 0.8673\n",
      "Epoch 5/10\n",
      "1283/1283 [==============================] - 10s 8ms/step - loss: 0.2752 - acc: 0.8961 - val_loss: 0.3676 - val_acc: 0.8676\n",
      "Epoch 6/10\n",
      "1283/1283 [==============================] - 10s 8ms/step - loss: 0.2690 - acc: 0.8975 - val_loss: 0.3602 - val_acc: 0.8685\n",
      "Epoch 7/10\n",
      "1283/1283 [==============================] - 10s 8ms/step - loss: 0.2636 - acc: 0.8995 - val_loss: 0.3566 - val_acc: 0.8688\n",
      "Epoch 8/10\n",
      "1283/1283 [==============================] - 10s 8ms/step - loss: 0.2592 - acc: 0.9014 - val_loss: 0.3530 - val_acc: 0.8687\n",
      "Epoch 9/10\n",
      "1283/1283 [==============================] - 10s 8ms/step - loss: 0.2557 - acc: 0.9033 - val_loss: 0.3684 - val_acc: 0.8674\n",
      "Epoch 10/10\n",
      "1283/1283 [==============================] - 10s 8ms/step - loss: 0.2512 - acc: 0.9037 - val_loss: 0.3594 - val_acc: 0.8687\n"
     ]
    }
   ],
   "source": [
    "hist = model.fit(padded,y_train,batch_size=64, epochs=10, validation_data=(test_padded,y_test), validation_batch_size=64)"
   ]
  },
  {
   "cell_type": "code",
   "execution_count": 52,
   "metadata": {},
   "outputs": [
    {
     "data": {
      "image/png": "[encoded data removed]",
      "text/plain": [
       "<Figure size 432x288 with 1 Axes>"
      ]
     },
     "metadata": {
      "needs_background": "light"
     },
     "output_type": "display_data"
    }
   ],
   "source": [
    "plot(hist)"
   ]
  },
  {
   "cell_type": "code",
   "execution_count": 53,
   "metadata": {},
   "outputs": [
    {
     "data": {
      "image/png": "[encoded data removed]",
      "text/plain": [
       "<Figure size 432x288 with 1 Axes>"
      ]
     },
     "metadata": {
      "needs_background": "light"
     },
     "output_type": "display_data"
    }
   ],
   "source": [
    "plot(hist, 'acc')"
   ]
  },
  {
   "cell_type": "code",
   "execution_count": 56,
   "metadata": {},
   "outputs": [],
   "source": [
    "model = tf.keras.Sequential([\n",
    "    tf.keras.layers.Embedding(vocab_size,embedded_dim,input_length=maxlen),\n",
    "    tf.keras.layers.Conv1D(64, 3, activation='relu'),\n",
    "    tf.keras.layers.GlobalAveragePooling1D(),\n",
    "    tf.keras.layers.Dense(30, activation='relu'),\n",
    "    tf.keras.layers.Dense(4, activation='softmax')\n",
    "])"
   ]
  },
  {
   "cell_type": "code",
   "execution_count": 57,
   "metadata": {},
   "outputs": [],
   "source": [
    "model.compile(loss='sparse_categorical_crossentropy',metrics=['acc'], optimizer='adam')"
   ]
  },
  {
   "cell_type": "code",
   "execution_count": 58,
   "metadata": {},
   "outputs": [
    {
     "name": "stdout",
     "output_type": "stream",
     "text": [
      "Epoch 1/10\n",
      "1283/1283 [==============================] - 5s 4ms/step - loss: 0.5478 - acc: 0.7904 - val_loss: 0.4357 - val_acc: 0.8451\n",
      "Epoch 2/10\n",
      "1283/1283 [==============================] - 5s 4ms/step - loss: 0.3392 - acc: 0.8751 - val_loss: 0.3964 - val_acc: 0.8563\n",
      "Epoch 3/10\n",
      "1283/1283 [==============================] - 5s 4ms/step - loss: 0.3136 - acc: 0.8829 - val_loss: 0.3853 - val_acc: 0.8590\n",
      "Epoch 4/10\n",
      "1283/1283 [==============================] - 5s 4ms/step - loss: 0.3017 - acc: 0.8869 - val_loss: 0.3877 - val_acc: 0.8581\n",
      "Epoch 5/10\n",
      "1283/1283 [==============================] - 5s 4ms/step - loss: 0.2948 - acc: 0.8883 - val_loss: 0.3842 - val_acc: 0.8604\n",
      "Epoch 6/10\n",
      "1283/1283 [==============================] - 5s 4ms/step - loss: 0.2893 - acc: 0.8896 - val_loss: 0.3779 - val_acc: 0.8632\n",
      "Epoch 7/10\n",
      "1283/1283 [==============================] - 5s 4ms/step - loss: 0.2853 - acc: 0.8920 - val_loss: 0.3801 - val_acc: 0.8632\n",
      "Epoch 8/10\n",
      "1283/1283 [==============================] - 5s 4ms/step - loss: 0.2820 - acc: 0.8927 - val_loss: 0.3865 - val_acc: 0.8613\n",
      "Epoch 9/10\n",
      "1283/1283 [==============================] - 5s 4ms/step - loss: 0.2784 - acc: 0.8929 - val_loss: 0.3805 - val_acc: 0.8638\n",
      "Epoch 10/10\n",
      "1283/1283 [==============================] - 5s 4ms/step - loss: 0.2760 - acc: 0.8935 - val_loss: 0.3883 - val_acc: 0.8618\n"
     ]
    }
   ],
   "source": [
    "hist = model.fit(padded,y_train,batch_size=64, epochs=10, validation_data=(test_padded,y_test), validation_batch_size=64)"
   ]
  },
  {
   "cell_type": "code",
   "execution_count": 59,
   "metadata": {},
   "outputs": [
    {
     "data": {
      "image/png": "[encoded data removed]",
      "text/plain": [
       "<Figure size 432x288 with 1 Axes>"
      ]
     },
     "metadata": {
      "needs_background": "light"
     },
     "output_type": "display_data"
    }
   ],
   "source": [
    "plot(hist)"
   ]
  },
  {
   "cell_type": "code",
   "execution_count": 60,
   "metadata": {},
   "outputs": [
    {
     "data": {
      "image/png": "[encoded data removed]",
      "text/plain": [
       "<Figure size 432x288 with 1 Axes>"
      ]
     },
     "metadata": {
      "needs_background": "light"
     },
     "output_type": "display_data"
    }
   ],
   "source": [
    "plot(hist, 'acc')"
   ]
  },
  {
   "cell_type": "code",
   "execution_count": 62,
   "metadata": {},
   "outputs": [],
   "source": [
    "model = tf.keras.Sequential([\n",
    "    tf.keras.layers.Embedding(vocab_size,embedded_dim,input_length=maxlen),\n",
    "    tf.keras.layers.Conv1D(64, 3, activation='relu'),\n",
    "    tf.keras.layers.GlobalMaxPooling1D(),\n",
    "    tf.keras.layers.Dense(30, activation='relu'),\n",
    "    tf.keras.layers.Dense(4, activation='softmax')\n",
    "])"
   ]
  },
  {
   "cell_type": "code",
   "execution_count": 63,
   "metadata": {},
   "outputs": [],
   "source": [
    "model.compile(loss='sparse_categorical_crossentropy',metrics=['acc'], optimizer='adam')"
   ]
  },
  {
   "cell_type": "code",
   "execution_count": 64,
   "metadata": {},
   "outputs": [
    {
     "name": "stdout",
     "output_type": "stream",
     "text": [
      "Epoch 1/10\n",
      "1283/1283 [==============================] - 5s 4ms/step - loss: 0.5199 - acc: 0.7924 - val_loss: 0.3905 - val_acc: 0.8549\n",
      "Epoch 2/10\n",
      "1283/1283 [==============================] - 5s 4ms/step - loss: 0.3122 - acc: 0.8847 - val_loss: 0.3742 - val_acc: 0.8605\n",
      "Epoch 3/10\n",
      "1283/1283 [==============================] - 5s 4ms/step - loss: 0.2881 - acc: 0.8924 - val_loss: 0.3664 - val_acc: 0.8639\n",
      "Epoch 4/10\n",
      "1283/1283 [==============================] - 5s 4ms/step - loss: 0.2750 - acc: 0.8964 - val_loss: 0.3611 - val_acc: 0.8669\n",
      "Epoch 5/10\n",
      "1283/1283 [==============================] - 5s 4ms/step - loss: 0.2644 - acc: 0.9012 - val_loss: 0.3583 - val_acc: 0.8664\n",
      "Epoch 6/10\n",
      "1283/1283 [==============================] - 5s 4ms/step - loss: 0.2564 - acc: 0.9038 - val_loss: 0.3628 - val_acc: 0.8674\n",
      "Epoch 7/10\n",
      "1283/1283 [==============================] - 5s 4ms/step - loss: 0.2497 - acc: 0.9062 - val_loss: 0.3590 - val_acc: 0.8695\n",
      "Epoch 8/10\n",
      "1283/1283 [==============================] - 5s 4ms/step - loss: 0.2435 - acc: 0.9081 - val_loss: 0.3690 - val_acc: 0.8677\n",
      "Epoch 9/10\n",
      "1283/1283 [==============================] - 5s 4ms/step - loss: 0.2378 - acc: 0.9100 - val_loss: 0.3582 - val_acc: 0.8690\n",
      "Epoch 10/10\n",
      "1283/1283 [==============================] - 5s 4ms/step - loss: 0.2327 - acc: 0.9129 - val_loss: 0.3568 - val_acc: 0.8707\n"
     ]
    }
   ],
   "source": [
    "hist = model.fit(padded,y_train,batch_size=64, epochs=10, validation_data=(test_padded,y_test), validation_batch_size=64)"
   ]
  },
  {
   "cell_type": "code",
   "execution_count": 65,
   "metadata": {},
   "outputs": [
    {
     "data": {
      "image/png": "[encoded data removed]",
      "text/plain": [
       "<Figure size 432x288 with 1 Axes>"
      ]
     },
     "metadata": {
      "needs_background": "light"
     },
     "output_type": "display_data"
    }
   ],
   "source": [
    "plot(hist)"
   ]
  },
  {
   "cell_type": "code",
   "execution_count": 66,
   "metadata": {},
   "outputs": [
    {
     "data": {
      "image/png": "[encoded data removed]",
      "text/plain": [
       "<Figure size 432x288 with 1 Axes>"
      ]
     },
     "metadata": {
      "needs_background": "light"
     },
     "output_type": "display_data"
    }
   ],
   "source": [
    "plot(hist, 'acc')"
   ]
  },
  {
   "cell_type": "code",
   "execution_count": 79,
   "metadata": {},
   "outputs": [],
   "source": [
    "model = tf.keras.Sequential([\n",
    "    tf.keras.layers.Embedding(vocab_size,embedded_dim,input_length=maxlen),\n",
    "    tf.keras.layers.Conv1D(64, 3, activation='relu'),\n",
    "    tf.keras.layers.GlobalAveragePooling1D(),\n",
    "    tf.keras.layers.Dropout(0.2),\n",
    "    tf.keras.layers.Dense(50, activation='relu', activity_regularizer=tf.keras.regularizers.L2(0.01)),\n",
    "    tf.keras.layers.Dropout(0.2),\n",
    "    tf.keras.layers.Dense(50, activation='relu', activity_regularizer=tf.keras.regularizers.L2(0.01)),\n",
    "    tf.keras.layers.Dropout(0.2),\n",
    "    tf.keras.layers.Dense(4, activation='softmax')\n",
    "])"
   ]
  },
  {
   "cell_type": "code",
   "execution_count": 80,
   "metadata": {},
   "outputs": [],
   "source": [
    "model.compile(loss='sparse_categorical_crossentropy',metrics=['acc'], optimizer='adam')"
   ]
  },
  {
   "cell_type": "code",
   "execution_count": 81,
   "metadata": {},
   "outputs": [
    {
     "name": "stdout",
     "output_type": "stream",
     "text": [
      "Epoch 1/50\n",
      "1283/1283 [==============================] - 6s 4ms/step - loss: 0.5836 - acc: 0.7900 - val_loss: 0.4426 - val_acc: 0.8501\n",
      "Epoch 2/50\n",
      "1283/1283 [==============================] - 5s 4ms/step - loss: 0.3816 - acc: 0.8727 - val_loss: 0.4035 - val_acc: 0.8604\n",
      "Epoch 3/50\n",
      "1283/1283 [==============================] - 5s 4ms/step - loss: 0.3514 - acc: 0.8798 - val_loss: 0.4030 - val_acc: 0.8565\n",
      "Epoch 4/50\n",
      "1283/1283 [==============================] - 5s 4ms/step - loss: 0.3367 - acc: 0.8834 - val_loss: 0.3875 - val_acc: 0.8598\n",
      "Epoch 5/50\n",
      "1283/1283 [==============================] - 5s 4ms/step - loss: 0.3253 - acc: 0.8855 - val_loss: 0.3854 - val_acc: 0.8634\n",
      "Epoch 6/50\n",
      "1283/1283 [==============================] - 5s 4ms/step - loss: 0.3175 - acc: 0.8882 - val_loss: 0.3852 - val_acc: 0.8641\n",
      "Epoch 7/50\n",
      "1283/1283 [==============================] - 5s 4ms/step - loss: 0.3119 - acc: 0.8901 - val_loss: 0.3891 - val_acc: 0.8635\n",
      "Epoch 8/50\n",
      "1283/1283 [==============================] - 5s 4ms/step - loss: 0.3077 - acc: 0.8913 - val_loss: 0.3680 - val_acc: 0.8673\n",
      "Epoch 9/50\n",
      "1283/1283 [==============================] - 5s 4ms/step - loss: 0.3024 - acc: 0.8923 - val_loss: 0.3677 - val_acc: 0.8676\n",
      "Epoch 10/50\n",
      "1283/1283 [==============================] - 5s 4ms/step - loss: 0.2996 - acc: 0.8940 - val_loss: 0.3798 - val_acc: 0.8648\n",
      "Epoch 11/50\n",
      "1283/1283 [==============================] - 5s 4ms/step - loss: 0.2970 - acc: 0.8941 - val_loss: 0.3689 - val_acc: 0.8683\n",
      "Epoch 12/50\n",
      "1283/1283 [==============================] - 5s 4ms/step - loss: 0.2912 - acc: 0.8969 - val_loss: 0.3700 - val_acc: 0.8691\n",
      "Epoch 13/50\n",
      "1283/1283 [==============================] - 5s 4ms/step - loss: 0.2896 - acc: 0.8964 - val_loss: 0.3650 - val_acc: 0.8694\n",
      "Epoch 14/50\n",
      "1283/1283 [==============================] - 5s 4ms/step - loss: 0.2852 - acc: 0.8979 - val_loss: 0.3752 - val_acc: 0.8690\n",
      "Epoch 15/50\n",
      "1283/1283 [==============================] - 5s 4ms/step - loss: 0.2831 - acc: 0.8989 - val_loss: 0.3672 - val_acc: 0.8688\n",
      "Epoch 16/50\n",
      "1283/1283 [==============================] - 5s 4ms/step - loss: 0.2803 - acc: 0.8998 - val_loss: 0.3797 - val_acc: 0.8683\n",
      "Epoch 17/50\n",
      "1283/1283 [==============================] - 5s 4ms/step - loss: 0.2756 - acc: 0.9013 - val_loss: 0.3683 - val_acc: 0.8693\n",
      "Epoch 18/50\n",
      "1283/1283 [==============================] - 5s 4ms/step - loss: 0.2739 - acc: 0.9023 - val_loss: 0.3652 - val_acc: 0.8694\n",
      "Epoch 19/50\n",
      "1283/1283 [==============================] - 5s 4ms/step - loss: 0.2741 - acc: 0.9014 - val_loss: 0.3686 - val_acc: 0.8694\n",
      "Epoch 20/50\n",
      "1283/1283 [==============================] - 5s 4ms/step - loss: 0.2704 - acc: 0.9027 - val_loss: 0.3794 - val_acc: 0.8681\n",
      "Epoch 21/50\n",
      "1283/1283 [==============================] - 5s 4ms/step - loss: 0.2688 - acc: 0.9030 - val_loss: 0.3736 - val_acc: 0.8698\n",
      "Epoch 22/50\n",
      "1283/1283 [==============================] - 5s 4ms/step - loss: 0.2648 - acc: 0.9050 - val_loss: 0.3775 - val_acc: 0.8706\n",
      "Epoch 23/50\n",
      "1283/1283 [==============================] - 5s 4ms/step - loss: 0.2650 - acc: 0.9052 - val_loss: 0.3790 - val_acc: 0.8685\n",
      "Epoch 24/50\n",
      "1283/1283 [==============================] - 5s 4ms/step - loss: 0.2642 - acc: 0.9050 - val_loss: 0.3753 - val_acc: 0.8687\n",
      "Epoch 25/50\n",
      "1283/1283 [==============================] - 5s 4ms/step - loss: 0.2627 - acc: 0.9064 - val_loss: 0.3777 - val_acc: 0.8681\n",
      "Epoch 26/50\n",
      "1283/1283 [==============================] - 5s 4ms/step - loss: 0.2617 - acc: 0.9058 - val_loss: 0.3792 - val_acc: 0.8682\n",
      "Epoch 27/50\n",
      "1283/1283 [==============================] - 5s 4ms/step - loss: 0.2592 - acc: 0.9069 - val_loss: 0.3788 - val_acc: 0.8659\n",
      "Epoch 28/50\n",
      "1283/1283 [==============================] - 5s 4ms/step - loss: 0.2577 - acc: 0.9082 - val_loss: 0.3745 - val_acc: 0.8678\n",
      "Epoch 29/50\n",
      "1283/1283 [==============================] - 5s 4ms/step - loss: 0.2560 - acc: 0.9082 - val_loss: 0.3651 - val_acc: 0.8713\n",
      "Epoch 30/50\n",
      "1283/1283 [==============================] - 5s 4ms/step - loss: 0.2562 - acc: 0.9073 - val_loss: 0.3654 - val_acc: 0.8703\n",
      "Epoch 31/50\n",
      "1283/1283 [==============================] - 5s 4ms/step - loss: 0.2536 - acc: 0.9080 - val_loss: 0.3610 - val_acc: 0.8693\n",
      "Epoch 32/50\n",
      "1283/1283 [==============================] - 5s 4ms/step - loss: 0.2532 - acc: 0.9090 - val_loss: 0.3752 - val_acc: 0.8686\n",
      "Epoch 33/50\n",
      "1283/1283 [==============================] - 5s 4ms/step - loss: 0.2522 - acc: 0.9092 - val_loss: 0.3758 - val_acc: 0.8666\n",
      "Epoch 34/50\n",
      "1283/1283 [==============================] - 5s 4ms/step - loss: 0.2502 - acc: 0.9097 - val_loss: 0.3853 - val_acc: 0.8673\n",
      "Epoch 35/50\n",
      "1283/1283 [==============================] - 5s 4ms/step - loss: 0.2504 - acc: 0.9101 - val_loss: 0.3650 - val_acc: 0.8693\n",
      "Epoch 36/50\n",
      "1283/1283 [==============================] - 5s 4ms/step - loss: 0.2475 - acc: 0.9106 - val_loss: 0.3945 - val_acc: 0.8668\n",
      "Epoch 37/50\n",
      "1283/1283 [==============================] - 5s 4ms/step - loss: 0.2480 - acc: 0.9100 - val_loss: 0.3724 - val_acc: 0.8700\n",
      "Epoch 38/50\n",
      "1283/1283 [==============================] - 5s 4ms/step - loss: 0.2480 - acc: 0.9106 - val_loss: 0.3673 - val_acc: 0.8705\n",
      "Epoch 39/50\n",
      "1283/1283 [==============================] - 5s 4ms/step - loss: 0.2455 - acc: 0.9114 - val_loss: 0.3759 - val_acc: 0.8694\n",
      "Epoch 40/50\n",
      "1283/1283 [==============================] - 5s 4ms/step - loss: 0.2464 - acc: 0.9113 - val_loss: 0.3803 - val_acc: 0.8682\n",
      "Epoch 41/50\n",
      "1283/1283 [==============================] - 5s 4ms/step - loss: 0.2465 - acc: 0.9113 - val_loss: 0.3788 - val_acc: 0.8695\n",
      "Epoch 42/50\n",
      "1283/1283 [==============================] - 5s 4ms/step - loss: 0.2435 - acc: 0.9118 - val_loss: 0.3748 - val_acc: 0.8686\n",
      "Epoch 43/50\n",
      "1283/1283 [==============================] - 5s 4ms/step - loss: 0.2424 - acc: 0.9124 - val_loss: 0.3887 - val_acc: 0.8680\n",
      "Epoch 44/50\n",
      "1283/1283 [==============================] - 5s 4ms/step - loss: 0.2426 - acc: 0.9122 - val_loss: 0.3800 - val_acc: 0.8685\n",
      "Epoch 45/50\n",
      "1283/1283 [==============================] - 6s 4ms/step - loss: 0.2422 - acc: 0.9127 - val_loss: 0.3852 - val_acc: 0.8681\n",
      "Epoch 46/50\n",
      "1283/1283 [==============================] - 5s 4ms/step - loss: 0.2428 - acc: 0.9118 - val_loss: 0.3763 - val_acc: 0.8690\n",
      "Epoch 47/50\n",
      "1283/1283 [==============================] - 5s 4ms/step - loss: 0.2398 - acc: 0.9128 - val_loss: 0.3828 - val_acc: 0.8684\n",
      "Epoch 48/50\n",
      "1283/1283 [==============================] - 5s 4ms/step - loss: 0.2414 - acc: 0.9129 - val_loss: 0.3855 - val_acc: 0.8678\n",
      "Epoch 49/50\n",
      "1283/1283 [==============================] - 5s 4ms/step - loss: 0.2393 - acc: 0.9128 - val_loss: 0.3825 - val_acc: 0.8689\n",
      "Epoch 50/50\n",
      "1283/1283 [==============================] - 5s 4ms/step - loss: 0.2385 - acc: 0.9132 - val_loss: 0.3829 - val_acc: 0.8702\n"
     ]
    }
   ],
   "source": [
    "hist = model.fit(padded,y_train,batch_size=64, epochs=50, validation_data=(test_padded,y_test), validation_batch_size=64)"
   ]
  },
  {
   "cell_type": "code",
   "execution_count": 82,
   "metadata": {},
   "outputs": [
    {
     "data": {
      "image/png": "[encoded data removed]",
      "text/plain": [
       "<Figure size 432x288 with 1 Axes>"
      ]
     },
     "metadata": {
      "needs_background": "light"
     },
     "output_type": "display_data"
    }
   ],
   "source": [
    "plot(hist)"
   ]
  },
  {
   "cell_type": "code",
   "execution_count": 83,
   "metadata": {},
   "outputs": [
    {
     "data": {
      "image/png": "[encoded data removed]",
      "text/plain": [
       "<Figure size 432x288 with 1 Axes>"
      ]
     },
     "metadata": {
      "needs_background": "light"
     },
     "output_type": "display_data"
    }
   ],
   "source": [
    "plot(hist, 'acc')"
   ]
  },
  {
   "cell_type": "code",
   "execution_count": null,
   "metadata": {},
   "outputs": [],
   "source": []
  }
 ],
 "metadata": {
  "kernelspec": {
   "display_name": "Python 3",
   "language": "python",
   "name": "python3"
  },
  "language_info": {
   "codemirror_mode": {
    "name": "ipython",
    "version": 3
   },
   "file_extension": ".py",
   "mimetype": "text/x-python",
   "name": "python",
   "nbconvert_exporter": "python",
   "pygments_lexer": "ipython3",
   "version": "3.7.9"
  }
 },
 "nbformat": 4,
 "nbformat_minor": 4
}
